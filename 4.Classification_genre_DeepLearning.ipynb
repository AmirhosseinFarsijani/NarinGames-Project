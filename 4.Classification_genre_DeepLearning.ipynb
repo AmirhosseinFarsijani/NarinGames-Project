{
 "cells": [
  {
   "cell_type": "code",
   "execution_count": 1,
   "metadata": {},
   "outputs": [],
   "source": [
    "import pandas as pd\n",
    "import numpy as np\n",
    "import string\n",
    "\n",
    "import nltk\n",
    "from nltk import word_tokenize\n",
    "from nltk.corpus import stopwords\n",
    "from nltk.stem.porter import PorterStemmer\n",
    "\n",
    "from keras import models, layers\n",
    "from keras.utils import to_categorical\n",
    "\n",
    "from sklearn.model_selection._split import train_test_split\n",
    "from sklearn import preprocessing\n",
    "from sklearn.feature_extraction.text import TfidfVectorizer"
   ]
  },
  {
   "cell_type": "code",
   "execution_count": 2,
   "metadata": {},
   "outputs": [
    {
     "data": {
      "text/html": [
       "<div>\n",
       "<style scoped>\n",
       "    .dataframe tbody tr th:only-of-type {\n",
       "        vertical-align: middle;\n",
       "    }\n",
       "\n",
       "    .dataframe tbody tr th {\n",
       "        vertical-align: top;\n",
       "    }\n",
       "\n",
       "    .dataframe thead th {\n",
       "        text-align: right;\n",
       "    }\n",
       "</style>\n",
       "<table border=\"1\" class=\"dataframe\">\n",
       "  <thead>\n",
       "    <tr style=\"text-align: right;\">\n",
       "      <th></th>\n",
       "      <th>name</th>\n",
       "      <th>genre</th>\n",
       "      <th>score</th>\n",
       "      <th>score_num</th>\n",
       "      <th>downloads</th>\n",
       "      <th>description</th>\n",
       "    </tr>\n",
       "  </thead>\n",
       "  <tbody>\n",
       "    <tr>\n",
       "      <th>0</th>\n",
       "      <td>Lords Mobile: Kingdom Wars</td>\n",
       "      <td>Strategy</td>\n",
       "      <td>4.3</td>\n",
       "      <td>5,946,326</td>\n",
       "      <td>100,000,000+</td>\n",
       "      <td>Are you ready for a REAL fight?\\n\\nThe true Em...</td>\n",
       "    </tr>\n",
       "    <tr>\n",
       "      <th>1</th>\n",
       "      <td>Fishdom</td>\n",
       "      <td>Puzzle</td>\n",
       "      <td>4.4</td>\n",
       "      <td>4,565,785</td>\n",
       "      <td>100,000,000+</td>\n",
       "      <td>Never Fishdomed before? Take a deep breath and...</td>\n",
       "    </tr>\n",
       "    <tr>\n",
       "      <th>2</th>\n",
       "      <td>State of Survival: Survive the Zombie Apocalypse</td>\n",
       "      <td>Strategy</td>\n",
       "      <td>4.4</td>\n",
       "      <td>1,522,191</td>\n",
       "      <td>10,000,000+</td>\n",
       "      <td>\"It's been six months since the zombie apocaly...</td>\n",
       "    </tr>\n",
       "    <tr>\n",
       "      <th>3</th>\n",
       "      <td>Genshin Impact</td>\n",
       "      <td>Adventure</td>\n",
       "      <td>4.5</td>\n",
       "      <td>1,060,121</td>\n",
       "      <td>10,000,000+</td>\n",
       "      <td>Step into Teyvat, a vast world teeming with li...</td>\n",
       "    </tr>\n",
       "    <tr>\n",
       "      <th>4</th>\n",
       "      <td>Gardenscapes</td>\n",
       "      <td>Casual</td>\n",
       "      <td>4.4</td>\n",
       "      <td>10,246,959</td>\n",
       "      <td>100,000,000+</td>\n",
       "      <td>Welcome to Gardenscapes—the first hit from Pla...</td>\n",
       "    </tr>\n",
       "  </tbody>\n",
       "</table>\n",
       "</div>"
      ],
      "text/plain": [
       "                                               name      genre  score  \\\n",
       "0                        Lords Mobile: Kingdom Wars   Strategy    4.3   \n",
       "1                                           Fishdom     Puzzle    4.4   \n",
       "2  State of Survival: Survive the Zombie Apocalypse   Strategy    4.4   \n",
       "3                                    Genshin Impact  Adventure    4.5   \n",
       "4                                      Gardenscapes     Casual    4.4   \n",
       "\n",
       "    score_num     downloads                                        description  \n",
       "0   5,946,326  100,000,000+  Are you ready for a REAL fight?\\n\\nThe true Em...  \n",
       "1   4,565,785  100,000,000+  Never Fishdomed before? Take a deep breath and...  \n",
       "2   1,522,191   10,000,000+  \"It's been six months since the zombie apocaly...  \n",
       "3   1,060,121   10,000,000+  Step into Teyvat, a vast world teeming with li...  \n",
       "4  10,246,959  100,000,000+  Welcome to Gardenscapes—the first hit from Pla...  "
      ]
     },
     "execution_count": 2,
     "metadata": {},
     "output_type": "execute_result"
    }
   ],
   "source": [
    "games = pd.read_json('https://raw.githubusercontent.com/sshmo/crawler/master/games.jl', lines=True)\n",
    "games.head()"
   ]
  },
  {
   "cell_type": "code",
   "execution_count": 3,
   "metadata": {},
   "outputs": [
    {
     "name": "stdout",
     "output_type": "stream",
     "text": [
      "<class 'pandas.core.frame.DataFrame'>\n",
      "RangeIndex: 199 entries, 0 to 198\n",
      "Data columns (total 6 columns):\n",
      " #   Column       Non-Null Count  Dtype  \n",
      "---  ------       --------------  -----  \n",
      " 0   name         199 non-null    object \n",
      " 1   genre        199 non-null    object \n",
      " 2   score        199 non-null    float64\n",
      " 3   score_num    199 non-null    object \n",
      " 4   downloads    199 non-null    object \n",
      " 5   description  199 non-null    object \n",
      "dtypes: float64(1), object(5)\n",
      "memory usage: 9.5+ KB\n"
     ]
    }
   ],
   "source": [
    "games.info()"
   ]
  },
  {
   "cell_type": "code",
   "execution_count": 4,
   "metadata": {},
   "outputs": [
    {
     "data": {
      "text/html": [
       "<div>\n",
       "<style scoped>\n",
       "    .dataframe tbody tr th:only-of-type {\n",
       "        vertical-align: middle;\n",
       "    }\n",
       "\n",
       "    .dataframe tbody tr th {\n",
       "        vertical-align: top;\n",
       "    }\n",
       "\n",
       "    .dataframe thead th {\n",
       "        text-align: right;\n",
       "    }\n",
       "</style>\n",
       "<table border=\"1\" class=\"dataframe\">\n",
       "  <thead>\n",
       "    <tr style=\"text-align: right;\">\n",
       "      <th></th>\n",
       "      <th>description</th>\n",
       "      <th>genre</th>\n",
       "    </tr>\n",
       "  </thead>\n",
       "  <tbody>\n",
       "    <tr>\n",
       "      <th>0</th>\n",
       "      <td>Are you ready for a REAL fight?\\n\\nThe true Em...</td>\n",
       "      <td>Strategy</td>\n",
       "    </tr>\n",
       "    <tr>\n",
       "      <th>1</th>\n",
       "      <td>Never Fishdomed before? Take a deep breath and...</td>\n",
       "      <td>Puzzle</td>\n",
       "    </tr>\n",
       "    <tr>\n",
       "      <th>2</th>\n",
       "      <td>\"It's been six months since the zombie apocaly...</td>\n",
       "      <td>Strategy</td>\n",
       "    </tr>\n",
       "    <tr>\n",
       "      <th>3</th>\n",
       "      <td>Step into Teyvat, a vast world teeming with li...</td>\n",
       "      <td>Adventure</td>\n",
       "    </tr>\n",
       "    <tr>\n",
       "      <th>4</th>\n",
       "      <td>Welcome to Gardenscapes—the first hit from Pla...</td>\n",
       "      <td>Casual</td>\n",
       "    </tr>\n",
       "  </tbody>\n",
       "</table>\n",
       "</div>"
      ],
      "text/plain": [
       "                                         description      genre\n",
       "0  Are you ready for a REAL fight?\\n\\nThe true Em...   Strategy\n",
       "1  Never Fishdomed before? Take a deep breath and...     Puzzle\n",
       "2  \"It's been six months since the zombie apocaly...   Strategy\n",
       "3  Step into Teyvat, a vast world teeming with li...  Adventure\n",
       "4  Welcome to Gardenscapes—the first hit from Pla...     Casual"
      ]
     },
     "execution_count": 4,
     "metadata": {},
     "output_type": "execute_result"
    }
   ],
   "source": [
    "games = games[[ \"description\", \"genre\"]]\n",
    "games.head()"
   ]
  },
  {
   "cell_type": "code",
   "execution_count": 5,
   "metadata": {},
   "outputs": [
    {
     "data": {
      "text/plain": [
       "14"
      ]
     },
     "execution_count": 5,
     "metadata": {},
     "output_type": "execute_result"
    }
   ],
   "source": [
    "games.genre.nunique()"
   ]
  },
  {
   "cell_type": "code",
   "execution_count": 6,
   "metadata": {},
   "outputs": [
    {
     "data": {
      "text/plain": [
       "genre\n",
       "Action          15\n",
       "Adventure       13\n",
       "Arcade           1\n",
       "Board            3\n",
       "Card             9\n",
       "Casino          15\n",
       "Casual          22\n",
       "Educational      1\n",
       "Puzzle          17\n",
       "Racing           5\n",
       "Role Playing    33\n",
       "Simulation      15\n",
       "Sports           9\n",
       "Strategy        41\n",
       "Name: description, dtype: int64"
      ]
     },
     "execution_count": 6,
     "metadata": {},
     "output_type": "execute_result"
    }
   ],
   "source": [
    "games.groupby('genre')['description'].count()"
   ]
  },
  {
   "cell_type": "code",
   "execution_count": 7,
   "metadata": {},
   "outputs": [
    {
     "data": {
      "text/html": [
       "<div>\n",
       "<style scoped>\n",
       "    .dataframe tbody tr th:only-of-type {\n",
       "        vertical-align: middle;\n",
       "    }\n",
       "\n",
       "    .dataframe tbody tr th {\n",
       "        vertical-align: top;\n",
       "    }\n",
       "\n",
       "    .dataframe thead th {\n",
       "        text-align: right;\n",
       "    }\n",
       "</style>\n",
       "<table border=\"1\" class=\"dataframe\">\n",
       "  <thead>\n",
       "    <tr style=\"text-align: right;\">\n",
       "      <th></th>\n",
       "      <th>description</th>\n",
       "      <th>genre</th>\n",
       "    </tr>\n",
       "  </thead>\n",
       "  <tbody>\n",
       "    <tr>\n",
       "      <th>0</th>\n",
       "      <td>readi real fight true emperor fallen need real...</td>\n",
       "      <td>Strategy</td>\n",
       "    </tr>\n",
       "    <tr>\n",
       "      <th>1</th>\n",
       "      <td>never fishdom take deep breath dive underwat w...</td>\n",
       "      <td>Puzzle</td>\n",
       "    </tr>\n",
       "    <tr>\n",
       "      <th>2</th>\n",
       "      <td>six month sinc zombi apocalyps began viru infe...</td>\n",
       "      <td>Strategy</td>\n",
       "    </tr>\n",
       "    <tr>\n",
       "      <th>3</th>\n",
       "      <td>step teyvat vast world teem life flow element ...</td>\n",
       "      <td>Adventure</td>\n",
       "    </tr>\n",
       "    <tr>\n",
       "      <th>4</th>\n",
       "      <td>welcom gardenscapesth first hit playrix scape ...</td>\n",
       "      <td>Casual</td>\n",
       "    </tr>\n",
       "  </tbody>\n",
       "</table>\n",
       "</div>"
      ],
      "text/plain": [
       "                                         description      genre\n",
       "0  readi real fight true emperor fallen need real...   Strategy\n",
       "1  never fishdom take deep breath dive underwat w...     Puzzle\n",
       "2  six month sinc zombi apocalyps began viru infe...   Strategy\n",
       "3  step teyvat vast world teem life flow element ...  Adventure\n",
       "4  welcom gardenscapesth first hit playrix scape ...     Casual"
      ]
     },
     "execution_count": 7,
     "metadata": {},
     "output_type": "execute_result"
    }
   ],
   "source": [
    "# text preprocessing\n",
    "\n",
    "for index, row in games.iterrows():\n",
    "    text = row['description']\n",
    "    # 1.lowercase\n",
    "    text_lower = text.lower()\n",
    "    ## 2.Removing Punctuation and unicode chars\n",
    "    text_lower_unicode = \"\".join([char for char in text_lower if char not in string.punctuation])\n",
    "    text_lower_unicode = text_lower_unicode.encode('ascii', 'ignore').decode()\n",
    "    ### 3.Tokenization\n",
    "    text_lower_unicode_tokenized = word_tokenize(text_lower_unicode)\n",
    "    #### 4.Stopword Filtering\n",
    "    text_lower_unicode_tokenized_filtered = [w for w in text_lower_unicode_tokenized if not w in stopwords.words('english')]\n",
    "    ##### 5.Stemming\n",
    "    porter = PorterStemmer()\n",
    "    text_lower_unicode_tokenized_filtered_stemming = [porter.stem(w) for w in text_lower_unicode_tokenized_filtered]\n",
    "    ###### 6.add to DataFrame\n",
    "    games.loc[index] = {'description': ' '.join(text_lower_unicode_tokenized_filtered_stemming), 'genre': row['genre']}\n",
    "    \n",
    "games.head()"
   ]
  },
  {
   "cell_type": "code",
   "execution_count": 8,
   "metadata": {},
   "outputs": [
    {
     "data": {
      "text/plain": [
       "(199, 5548)"
      ]
     },
     "execution_count": 8,
     "metadata": {},
     "output_type": "execute_result"
    }
   ],
   "source": [
    "# vectorizer\n",
    "\n",
    "vectorizer = TfidfVectorizer(sublinear_tf=True, max_df=0.5)\n",
    "X = vectorizer.fit(games['description']).transform(games['description'])\n",
    "\n",
    "X.shape"
   ]
  },
  {
   "cell_type": "code",
   "execution_count": 9,
   "metadata": {},
   "outputs": [
    {
     "data": {
      "text/plain": [
       "(199,)"
      ]
     },
     "execution_count": 9,
     "metadata": {},
     "output_type": "execute_result"
    }
   ],
   "source": [
    "# label encoder\n",
    "\n",
    "le = preprocessing.LabelEncoder()\n",
    "y = le.fit(games['genre']).transform(games['genre'])\n",
    "np.unique(games['genre'])\n",
    "\n",
    "y.shape"
   ]
  },
  {
   "cell_type": "code",
   "execution_count": 10,
   "metadata": {},
   "outputs": [],
   "source": [
    "x_train, x_test, y_train, y_test = train_test_split(X, to_categorical(y, 14))"
   ]
  },
  {
   "cell_type": "code",
   "execution_count": 11,
   "metadata": {},
   "outputs": [
    {
     "data": {
      "text/plain": [
       "(149, 5548)"
      ]
     },
     "execution_count": 11,
     "metadata": {},
     "output_type": "execute_result"
    }
   ],
   "source": [
    "x_train.shape"
   ]
  },
  {
   "cell_type": "code",
   "execution_count": 12,
   "metadata": {},
   "outputs": [
    {
     "name": "stdout",
     "output_type": "stream",
     "text": [
      "Model: \"sequential\"\n",
      "_________________________________________________________________\n",
      "Layer (type)                 Output Shape              Param #   \n",
      "=================================================================\n",
      "dense (Dense)                (None, 200)               1109800   \n",
      "_________________________________________________________________\n",
      "dropout (Dropout)            (None, 200)               0         \n",
      "_________________________________________________________________\n",
      "dense_1 (Dense)              (None, 200)               40200     \n",
      "_________________________________________________________________\n",
      "dropout_1 (Dropout)          (None, 200)               0         \n",
      "_________________________________________________________________\n",
      "dense_2 (Dense)              (None, 200)               40200     \n",
      "_________________________________________________________________\n",
      "dense_3 (Dense)              (None, 14)                2814      \n",
      "=================================================================\n",
      "Total params: 1,193,014\n",
      "Trainable params: 1,193,014\n",
      "Non-trainable params: 0\n",
      "_________________________________________________________________\n"
     ]
    }
   ],
   "source": [
    "# create model \n",
    "\n",
    "model = models.Sequential()\n",
    "model.add(layers.Dense(200, activation=\"relu\", input_shape=(5548,)))\n",
    "model.add(layers.Dropout(0.3, noise_shape=None, seed=None))\n",
    "model.add(layers.Dense(200, activation=\"relu\"))\n",
    "model.add(layers.Dropout(0.3, noise_shape=None, seed=None))\n",
    "model.add(layers.Dense(200, activation=\"relu\"))\n",
    "model.add(layers.Dense(14, activation=\"sigmoid\"))\n",
    "model.summary()"
   ]
  },
  {
   "cell_type": "code",
   "execution_count": 13,
   "metadata": {},
   "outputs": [],
   "source": [
    "# compile model configuration\n",
    "\n",
    "model.compile(optimizer=\"adam\",\n",
    "              loss='binary_crossentropy',\n",
    "              metrics=[\"accuracy\"])"
   ]
  },
  {
   "cell_type": "code",
   "execution_count": 14,
   "metadata": {},
   "outputs": [
    {
     "name": "stdout",
     "output_type": "stream",
     "text": [
      "Epoch 1/30\n",
      "149/149 [==============================] - 6s 29ms/step - loss: 0.4529 - accuracy: 0.1242 - val_loss: 0.2311 - val_accuracy: 0.1800\n",
      "Epoch 2/30\n",
      "149/149 [==============================] - 1s 10ms/step - loss: 0.2363 - accuracy: 0.2264 - val_loss: 0.1811 - val_accuracy: 0.5000\n",
      "Epoch 3/30\n",
      "149/149 [==============================] - 1s 10ms/step - loss: 0.1418 - accuracy: 0.6060 - val_loss: 0.1613 - val_accuracy: 0.4600\n",
      "Epoch 4/30\n",
      "149/149 [==============================] - 2s 10ms/step - loss: 0.0730 - accuracy: 0.8192 - val_loss: 0.1631 - val_accuracy: 0.4200\n",
      "Epoch 5/30\n",
      "149/149 [==============================] - 2s 10ms/step - loss: 0.0395 - accuracy: 0.9004 - val_loss: 0.1571 - val_accuracy: 0.6000\n",
      "Epoch 6/30\n",
      "149/149 [==============================] - 2s 11ms/step - loss: 0.0185 - accuracy: 0.9678 - val_loss: 0.1914 - val_accuracy: 0.5400\n",
      "Epoch 7/30\n",
      "149/149 [==============================] - 2s 12ms/step - loss: 0.0066 - accuracy: 0.9839 - val_loss: 0.1722 - val_accuracy: 0.6000\n",
      "Epoch 8/30\n",
      "149/149 [==============================] - 2s 13ms/step - loss: 0.0108 - accuracy: 0.9643 - val_loss: 0.1699 - val_accuracy: 0.6000\n",
      "Epoch 9/30\n",
      "149/149 [==============================] - 2s 11ms/step - loss: 0.0071 - accuracy: 0.9833 - val_loss: 0.1928 - val_accuracy: 0.6000\n",
      "Epoch 10/30\n",
      "149/149 [==============================] - 2s 10ms/step - loss: 0.0023 - accuracy: 0.9993 - val_loss: 0.2054 - val_accuracy: 0.6200\n",
      "Epoch 11/30\n",
      "149/149 [==============================] - 2s 11ms/step - loss: 0.0017 - accuracy: 0.9979 - val_loss: 0.2237 - val_accuracy: 0.6200\n",
      "Epoch 12/30\n",
      "149/149 [==============================] - 2s 10ms/step - loss: 0.0017 - accuracy: 1.0000 - val_loss: 0.2227 - val_accuracy: 0.5800\n",
      "Epoch 13/30\n",
      "149/149 [==============================] - 2s 10ms/step - loss: 8.8252e-04 - accuracy: 1.0000 - val_loss: 0.2391 - val_accuracy: 0.6000\n",
      "Epoch 14/30\n",
      "149/149 [==============================] - 2s 11ms/step - loss: 6.0662e-04 - accuracy: 1.0000 - val_loss: 0.2456 - val_accuracy: 0.6200\n",
      "Epoch 15/30\n",
      "149/149 [==============================] - 2s 12ms/step - loss: 2.8440e-04 - accuracy: 1.0000 - val_loss: 0.2342 - val_accuracy: 0.6400\n",
      "Epoch 16/30\n",
      "149/149 [==============================] - 2s 10ms/step - loss: 4.3220e-04 - accuracy: 1.0000 - val_loss: 0.2556 - val_accuracy: 0.6200\n",
      "Epoch 17/30\n",
      "149/149 [==============================] - 1s 10ms/step - loss: 4.8281e-04 - accuracy: 1.0000 - val_loss: 0.2739 - val_accuracy: 0.5600\n",
      "Epoch 18/30\n",
      "149/149 [==============================] - 2s 10ms/step - loss: 1.9443e-04 - accuracy: 1.0000 - val_loss: 0.2544 - val_accuracy: 0.6400\n",
      "Epoch 19/30\n",
      "149/149 [==============================] - 2s 11ms/step - loss: 0.0019 - accuracy: 1.0000 - val_loss: 0.2186 - val_accuracy: 0.6000\n",
      "Epoch 20/30\n",
      "149/149 [==============================] - 2s 12ms/step - loss: 3.4429e-04 - accuracy: 0.9998 - val_loss: 0.2507 - val_accuracy: 0.5200\n",
      "Epoch 21/30\n",
      "149/149 [==============================] - 2s 11ms/step - loss: 0.0030 - accuracy: 1.0000 - val_loss: 0.2369 - val_accuracy: 0.6600\n",
      "Epoch 22/30\n",
      "149/149 [==============================] - 2s 12ms/step - loss: 0.0011 - accuracy: 1.0000 - val_loss: 0.2202 - val_accuracy: 0.6400\n",
      "Epoch 23/30\n",
      "149/149 [==============================] - 2s 12ms/step - loss: 4.1040e-04 - accuracy: 1.0000 - val_loss: 0.2499 - val_accuracy: 0.6200\n",
      "Epoch 24/30\n",
      "149/149 [==============================] - 2s 10ms/step - loss: 2.1364e-04 - accuracy: 1.0000 - val_loss: 0.2376 - val_accuracy: 0.6400\n",
      "Epoch 25/30\n",
      "149/149 [==============================] - 2s 10ms/step - loss: 0.0027 - accuracy: 1.0000 - val_loss: 0.2222 - val_accuracy: 0.6000\n",
      "Epoch 26/30\n",
      "149/149 [==============================] - 2s 12ms/step - loss: 4.8941e-04 - accuracy: 1.0000 - val_loss: 0.2151 - val_accuracy: 0.6400\n",
      "Epoch 27/30\n",
      "149/149 [==============================] - 1s 10ms/step - loss: 7.4557e-05 - accuracy: 1.0000 - val_loss: 0.2094 - val_accuracy: 0.6200\n",
      "Epoch 28/30\n",
      "149/149 [==============================] - 2s 10ms/step - loss: 4.5738e-05 - accuracy: 1.0000 - val_loss: 0.2067 - val_accuracy: 0.6600\n",
      "Epoch 29/30\n",
      "149/149 [==============================] - 2s 11ms/step - loss: 0.0015 - accuracy: 1.0000 - val_loss: 0.2751 - val_accuracy: 0.4800\n",
      "Epoch 30/30\n",
      "149/149 [==============================] - 2s 11ms/step - loss: 6.3418e-05 - accuracy: 1.0000 - val_loss: 0.2647 - val_accuracy: 0.4800\n",
      "Deep acc:  0.5720000048478444\n"
     ]
    }
   ],
   "source": [
    "# fit model \n",
    "\n",
    "results = model.fit(x_train.toarray(),y_train,\n",
    "                    epochs=30,\n",
    "                    batch_size=1,\n",
    "                    validation_data=(x_test.toarray(), y_test))\n",
    "\n",
    "print(\"Deep acc: \", np.mean(results.history['val_accuracy']))"
   ]
  },
  {
   "cell_type": "code",
   "execution_count": 15,
   "metadata": {},
   "outputs": [
    {
     "name": "stdout",
     "output_type": "stream",
     "text": [
      "Model: \"sequential_1\"\n",
      "_________________________________________________________________\n",
      "Layer (type)                 Output Shape              Param #   \n",
      "=================================================================\n",
      "dense_4 (Dense)              (None, 500)               2774500   \n",
      "_________________________________________________________________\n",
      "dropout_2 (Dropout)          (None, 500)               0         \n",
      "_________________________________________________________________\n",
      "dense_5 (Dense)              (None, 150)               75150     \n",
      "_________________________________________________________________\n",
      "dropout_3 (Dropout)          (None, 150)               0         \n",
      "_________________________________________________________________\n",
      "dense_6 (Dense)              (None, 100)               15100     \n",
      "_________________________________________________________________\n",
      "dense_7 (Dense)              (None, 14)                1414      \n",
      "=================================================================\n",
      "Total params: 2,866,164\n",
      "Trainable params: 2,866,164\n",
      "Non-trainable params: 0\n",
      "_________________________________________________________________\n"
     ]
    }
   ],
   "source": [
    "# create model \n",
    "\n",
    "model = models.Sequential()\n",
    "model.add(layers.Dense(500, activation=\"relu\", input_shape=(5548,)))\n",
    "model.add(layers.Dropout(0.3, noise_shape=None, seed=None))\n",
    "model.add(layers.Dense(150, activation=\"relu\"))\n",
    "model.add(layers.Dropout(0.3, noise_shape=None, seed=None))\n",
    "model.add(layers.Dense(100, activation=\"relu\"))\n",
    "model.add(layers.Dense(14, activation=\"sigmoid\"))\n",
    "model.summary()"
   ]
  },
  {
   "cell_type": "code",
   "execution_count": 16,
   "metadata": {},
   "outputs": [],
   "source": [
    "# compile model configuration\n",
    "\n",
    "model.compile(optimizer=\"adam\",\n",
    "              loss='binary_crossentropy',\n",
    "              metrics=[\"accuracy\"])"
   ]
  },
  {
   "cell_type": "code",
   "execution_count": 19,
   "metadata": {},
   "outputs": [
    {
     "name": "stdout",
     "output_type": "stream",
     "text": [
      "Epoch 1/30\n",
      "149/149 [==============================] - 3s 21ms/step - loss: 6.9189e-06 - accuracy: 1.0000 - val_loss: 0.2684 - val_accuracy: 0.5600\n",
      "Epoch 2/30\n",
      "149/149 [==============================] - 3s 19ms/step - loss: 1.3501e-04 - accuracy: 1.0000 - val_loss: 0.2822 - val_accuracy: 0.5000\n",
      "Epoch 3/30\n",
      "149/149 [==============================] - 2s 13ms/step - loss: 2.4359e-05 - accuracy: 1.0000 - val_loss: 0.2819 - val_accuracy: 0.5200\n",
      "Epoch 4/30\n",
      "149/149 [==============================] - 2s 13ms/step - loss: 2.4947e-06 - accuracy: 1.0000 - val_loss: 0.2801 - val_accuracy: 0.5200\n",
      "Epoch 5/30\n",
      "149/149 [==============================] - 2s 12ms/step - loss: 7.9734e-06 - accuracy: 1.0000 - val_loss: 0.2771 - val_accuracy: 0.5200\n",
      "Epoch 6/30\n",
      "149/149 [==============================] - 3s 18ms/step - loss: 4.8646e-06 - accuracy: 1.0000 - val_loss: 0.2738 - val_accuracy: 0.5400\n",
      "Epoch 7/30\n",
      "149/149 [==============================] - 2s 13ms/step - loss: 9.2566e-07 - accuracy: 1.0000 - val_loss: 0.2692 - val_accuracy: 0.5600\n",
      "Epoch 8/30\n",
      "149/149 [==============================] - 2s 12ms/step - loss: 9.5602e-06 - accuracy: 1.0000 - val_loss: 0.2679 - val_accuracy: 0.5800\n",
      "Epoch 9/30\n",
      "149/149 [==============================] - 2s 14ms/step - loss: 9.2646e-05 - accuracy: 1.0000 - val_loss: 0.3202 - val_accuracy: 0.5800\n",
      "Epoch 10/30\n",
      "149/149 [==============================] - 2s 12ms/step - loss: 6.7759e-04 - accuracy: 1.0000 - val_loss: 0.2609 - val_accuracy: 0.6400\n",
      "Epoch 11/30\n",
      "149/149 [==============================] - 2s 12ms/step - loss: 9.8425e-06 - accuracy: 1.0000 - val_loss: 0.2644 - val_accuracy: 0.6800\n",
      "Epoch 12/30\n",
      "149/149 [==============================] - 2s 13ms/step - loss: 8.4366e-06 - accuracy: 1.0000 - val_loss: 0.2653 - val_accuracy: 0.6800\n",
      "Epoch 13/30\n",
      "149/149 [==============================] - 2s 13ms/step - loss: 2.9517e-06 - accuracy: 1.0000 - val_loss: 0.2612 - val_accuracy: 0.6600\n",
      "Epoch 14/30\n",
      "149/149 [==============================] - 2s 12ms/step - loss: 1.4423e-06 - accuracy: 1.0000 - val_loss: 0.2615 - val_accuracy: 0.6600\n",
      "Epoch 15/30\n",
      "149/149 [==============================] - 2s 14ms/step - loss: 8.4381e-06 - accuracy: 1.0000 - val_loss: 0.2650 - val_accuracy: 0.6600\n",
      "Epoch 16/30\n",
      "149/149 [==============================] - 2s 12ms/step - loss: 3.4859e-06 - accuracy: 1.0000 - val_loss: 0.2650 - val_accuracy: 0.6800\n",
      "Epoch 17/30\n",
      "149/149 [==============================] - 2s 12ms/step - loss: 1.1263e-05 - accuracy: 1.0000 - val_loss: 0.2735 - val_accuracy: 0.7000\n",
      "Epoch 18/30\n",
      "149/149 [==============================] - 2s 12ms/step - loss: 4.3055e-06 - accuracy: 1.0000 - val_loss: 0.2780 - val_accuracy: 0.7000\n",
      "Epoch 19/30\n",
      "149/149 [==============================] - 2s 12ms/step - loss: 3.3997e-07 - accuracy: 1.0000 - val_loss: 0.2784 - val_accuracy: 0.7000\n",
      "Epoch 20/30\n",
      "149/149 [==============================] - 2s 12ms/step - loss: 3.1553e-06 - accuracy: 1.0000 - val_loss: 0.2765 - val_accuracy: 0.7000\n",
      "Epoch 21/30\n",
      "149/149 [==============================] - 2s 12ms/step - loss: 1.6727e-05 - accuracy: 1.0000 - val_loss: 0.2992 - val_accuracy: 0.6800\n",
      "Epoch 22/30\n",
      "149/149 [==============================] - 2s 13ms/step - loss: 6.3295e-06 - accuracy: 1.0000 - val_loss: 0.2839 - val_accuracy: 0.7200\n",
      "Epoch 23/30\n",
      "149/149 [==============================] - 2s 12ms/step - loss: 1.0616e-07 - accuracy: 1.0000 - val_loss: 0.2841 - val_accuracy: 0.7200\n",
      "Epoch 24/30\n",
      "149/149 [==============================] - 2s 15ms/step - loss: 4.1692e-07 - accuracy: 1.0000 - val_loss: 0.2844 - val_accuracy: 0.7200\n",
      "Epoch 25/30\n",
      "149/149 [==============================] - 2s 12ms/step - loss: 7.4370e-07 - accuracy: 1.0000 - val_loss: 0.2862 - val_accuracy: 0.7200\n",
      "Epoch 26/30\n",
      "149/149 [==============================] - 2s 12ms/step - loss: 9.4544e-07 - accuracy: 1.0000 - val_loss: 0.2860 - val_accuracy: 0.7200\n",
      "Epoch 27/30\n",
      "149/149 [==============================] - 2s 11ms/step - loss: 1.8041e-07 - accuracy: 1.0000 - val_loss: 0.2864 - val_accuracy: 0.7200\n",
      "Epoch 28/30\n",
      "149/149 [==============================] - 2s 12ms/step - loss: 7.5413e-06 - accuracy: 1.0000 - val_loss: 0.3019 - val_accuracy: 0.6600\n",
      "Epoch 29/30\n",
      "149/149 [==============================] - 2s 12ms/step - loss: 8.9451e-07 - accuracy: 1.0000 - val_loss: 0.3006 - val_accuracy: 0.6600\n",
      "Epoch 30/30\n",
      "149/149 [==============================] - 2s 12ms/step - loss: 1.7037e-06 - accuracy: 1.0000 - val_loss: 0.3011 - val_accuracy: 0.6800\n",
      "Deep acc:  0.6446666737397512\n"
     ]
    }
   ],
   "source": [
    "# fit model \n",
    "\n",
    "results = model.fit(x_train.toarray(),y_train,\n",
    "                    epochs=30,\n",
    "                    batch_size=1,\n",
    "                    validation_data=(x_test.toarray(), y_test))\n",
    "\n",
    "print(\"Deep acc: \", np.mean(results.history['val_accuracy']))"
   ]
  },
  {
   "cell_type": "code",
   "execution_count": 20,
   "metadata": {},
   "outputs": [],
   "source": [
    "# save my model in HardDisk\n",
    "\n",
    "model.save('naringame_DL_genre_model.h5')"
   ]
  }
 ],
 "metadata": {
  "kernelspec": {
   "display_name": "Python 3",
   "language": "python",
   "name": "python3"
  },
  "language_info": {
   "codemirror_mode": {
    "name": "ipython",
    "version": 3
   },
   "file_extension": ".py",
   "mimetype": "text/x-python",
   "name": "python",
   "nbconvert_exporter": "python",
   "pygments_lexer": "ipython3",
   "version": "3.8.3"
  }
 },
 "nbformat": 4,
 "nbformat_minor": 4
}
