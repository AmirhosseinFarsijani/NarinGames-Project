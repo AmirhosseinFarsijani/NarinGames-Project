{
 "cells": [
  {
   "cell_type": "code",
   "execution_count": 1,
   "metadata": {},
   "outputs": [
    {
     "name": "stderr",
     "output_type": "stream",
     "text": [
      "C:\\Users\\amirh\\anaconda3\\lib\\site-packages\\sklearn\\utils\\deprecation.py:143: FutureWarning: The sklearn.neighbors.classification module is  deprecated in version 0.22 and will be removed in version 0.24. The corresponding classes / functions should instead be imported from sklearn.neighbors. Anything that cannot be imported from sklearn.neighbors is now part of the private API.\n",
      "  warnings.warn(message, FutureWarning)\n"
     ]
    }
   ],
   "source": [
    "import pandas as pd\n",
    "import numpy as np\n",
    "\n",
    "import seaborn as sns\n",
    "import matplotlib.pyplot as plt\n",
    "\n",
    "import problems\n",
    "\n",
    "from sklearn.preprocessing import MinMaxScaler\n",
    "from sklearn.preprocessing import StandardScaler\n",
    "from sklearn.preprocessing import Normalizer\n",
    "from sklearn import preprocessing\n",
    "from sklearn.neighbors.classification import KNeighborsClassifier\n",
    "\n",
    "from keras import models, layers\n",
    "from keras.utils import to_categorical\n",
    "\n",
    "from sklearn.model_selection import train_test_split"
   ]
  },
  {
   "cell_type": "code",
   "execution_count": 2,
   "metadata": {},
   "outputs": [
    {
     "data": {
      "text/html": [
       "<div>\n",
       "<style scoped>\n",
       "    .dataframe tbody tr th:only-of-type {\n",
       "        vertical-align: middle;\n",
       "    }\n",
       "\n",
       "    .dataframe tbody tr th {\n",
       "        vertical-align: top;\n",
       "    }\n",
       "\n",
       "    .dataframe thead th {\n",
       "        text-align: right;\n",
       "    }\n",
       "</style>\n",
       "<table border=\"1\" class=\"dataframe\">\n",
       "  <thead>\n",
       "    <tr style=\"text-align: right;\">\n",
       "      <th></th>\n",
       "      <th>App</th>\n",
       "      <th>Category</th>\n",
       "      <th>Rating</th>\n",
       "      <th>Reviews</th>\n",
       "      <th>Size</th>\n",
       "      <th>Installs</th>\n",
       "      <th>Type</th>\n",
       "      <th>Price</th>\n",
       "      <th>Content Rating</th>\n",
       "      <th>Genres</th>\n",
       "      <th>Last Updated</th>\n",
       "      <th>Current Ver</th>\n",
       "      <th>Android Ver</th>\n",
       "    </tr>\n",
       "  </thead>\n",
       "  <tbody>\n",
       "    <tr>\n",
       "      <th>0</th>\n",
       "      <td>Photo Editor &amp; Candy Camera &amp; Grid &amp; ScrapBook</td>\n",
       "      <td>ART_AND_DESIGN</td>\n",
       "      <td>4.1</td>\n",
       "      <td>159</td>\n",
       "      <td>19M</td>\n",
       "      <td>10,000+</td>\n",
       "      <td>Free</td>\n",
       "      <td>0</td>\n",
       "      <td>Everyone</td>\n",
       "      <td>Art &amp; Design</td>\n",
       "      <td>January 7, 2018</td>\n",
       "      <td>1.0.0</td>\n",
       "      <td>4.0.3 and up</td>\n",
       "    </tr>\n",
       "    <tr>\n",
       "      <th>1</th>\n",
       "      <td>Coloring book moana</td>\n",
       "      <td>ART_AND_DESIGN</td>\n",
       "      <td>3.9</td>\n",
       "      <td>967</td>\n",
       "      <td>14M</td>\n",
       "      <td>500,000+</td>\n",
       "      <td>Free</td>\n",
       "      <td>0</td>\n",
       "      <td>Everyone</td>\n",
       "      <td>Art &amp; Design;Pretend Play</td>\n",
       "      <td>January 15, 2018</td>\n",
       "      <td>2.0.0</td>\n",
       "      <td>4.0.3 and up</td>\n",
       "    </tr>\n",
       "    <tr>\n",
       "      <th>2</th>\n",
       "      <td>U Launcher Lite – FREE Live Cool Themes, Hide ...</td>\n",
       "      <td>ART_AND_DESIGN</td>\n",
       "      <td>4.7</td>\n",
       "      <td>87510</td>\n",
       "      <td>8.7M</td>\n",
       "      <td>5,000,000+</td>\n",
       "      <td>Free</td>\n",
       "      <td>0</td>\n",
       "      <td>Everyone</td>\n",
       "      <td>Art &amp; Design</td>\n",
       "      <td>August 1, 2018</td>\n",
       "      <td>1.2.4</td>\n",
       "      <td>4.0.3 and up</td>\n",
       "    </tr>\n",
       "    <tr>\n",
       "      <th>3</th>\n",
       "      <td>Sketch - Draw &amp; Paint</td>\n",
       "      <td>ART_AND_DESIGN</td>\n",
       "      <td>4.5</td>\n",
       "      <td>215644</td>\n",
       "      <td>25M</td>\n",
       "      <td>50,000,000+</td>\n",
       "      <td>Free</td>\n",
       "      <td>0</td>\n",
       "      <td>Teen</td>\n",
       "      <td>Art &amp; Design</td>\n",
       "      <td>June 8, 2018</td>\n",
       "      <td>Varies with device</td>\n",
       "      <td>4.2 and up</td>\n",
       "    </tr>\n",
       "    <tr>\n",
       "      <th>4</th>\n",
       "      <td>Pixel Draw - Number Art Coloring Book</td>\n",
       "      <td>ART_AND_DESIGN</td>\n",
       "      <td>4.3</td>\n",
       "      <td>967</td>\n",
       "      <td>2.8M</td>\n",
       "      <td>100,000+</td>\n",
       "      <td>Free</td>\n",
       "      <td>0</td>\n",
       "      <td>Everyone</td>\n",
       "      <td>Art &amp; Design;Creativity</td>\n",
       "      <td>June 20, 2018</td>\n",
       "      <td>1.1</td>\n",
       "      <td>4.4 and up</td>\n",
       "    </tr>\n",
       "  </tbody>\n",
       "</table>\n",
       "</div>"
      ],
      "text/plain": [
       "                                                 App        Category  Rating  \\\n",
       "0     Photo Editor & Candy Camera & Grid & ScrapBook  ART_AND_DESIGN     4.1   \n",
       "1                                Coloring book moana  ART_AND_DESIGN     3.9   \n",
       "2  U Launcher Lite – FREE Live Cool Themes, Hide ...  ART_AND_DESIGN     4.7   \n",
       "3                              Sketch - Draw & Paint  ART_AND_DESIGN     4.5   \n",
       "4              Pixel Draw - Number Art Coloring Book  ART_AND_DESIGN     4.3   \n",
       "\n",
       "  Reviews  Size     Installs  Type Price Content Rating  \\\n",
       "0     159   19M      10,000+  Free     0       Everyone   \n",
       "1     967   14M     500,000+  Free     0       Everyone   \n",
       "2   87510  8.7M   5,000,000+  Free     0       Everyone   \n",
       "3  215644   25M  50,000,000+  Free     0           Teen   \n",
       "4     967  2.8M     100,000+  Free     0       Everyone   \n",
       "\n",
       "                      Genres      Last Updated         Current Ver  \\\n",
       "0               Art & Design   January 7, 2018               1.0.0   \n",
       "1  Art & Design;Pretend Play  January 15, 2018               2.0.0   \n",
       "2               Art & Design    August 1, 2018               1.2.4   \n",
       "3               Art & Design      June 8, 2018  Varies with device   \n",
       "4    Art & Design;Creativity     June 20, 2018                 1.1   \n",
       "\n",
       "    Android Ver  \n",
       "0  4.0.3 and up  \n",
       "1  4.0.3 and up  \n",
       "2  4.0.3 and up  \n",
       "3    4.2 and up  \n",
       "4    4.4 and up  "
      ]
     },
     "execution_count": 2,
     "metadata": {},
     "output_type": "execute_result"
    }
   ],
   "source": [
    "data = pd.read_csv('GooglePlayData/googleplaystore.csv')\n",
    "data.head()"
   ]
  },
  {
   "cell_type": "code",
   "execution_count": 3,
   "metadata": {},
   "outputs": [
    {
     "name": "stdout",
     "output_type": "stream",
     "text": [
      "<class 'pandas.core.frame.DataFrame'>\n",
      "RangeIndex: 10841 entries, 0 to 10840\n",
      "Data columns (total 13 columns):\n",
      " #   Column          Non-Null Count  Dtype  \n",
      "---  ------          --------------  -----  \n",
      " 0   App             10841 non-null  object \n",
      " 1   Category        10841 non-null  object \n",
      " 2   Rating          9367 non-null   float64\n",
      " 3   Reviews         10841 non-null  object \n",
      " 4   Size            10841 non-null  object \n",
      " 5   Installs        10841 non-null  object \n",
      " 6   Type            10840 non-null  object \n",
      " 7   Price           10841 non-null  object \n",
      " 8   Content Rating  10840 non-null  object \n",
      " 9   Genres          10841 non-null  object \n",
      " 10  Last Updated    10841 non-null  object \n",
      " 11  Current Ver     10833 non-null  object \n",
      " 12  Android Ver     10838 non-null  object \n",
      "dtypes: float64(1), object(12)\n",
      "memory usage: 1.1+ MB\n"
     ]
    }
   ],
   "source": [
    "data.info()"
   ]
  },
  {
   "cell_type": "code",
   "execution_count": 4,
   "metadata": {},
   "outputs": [
    {
     "data": {
      "text/plain": [
       "Category\n",
       "1.9                       1\n",
       "ART_AND_DESIGN           65\n",
       "AUTO_AND_VEHICLES        85\n",
       "BEAUTY                   53\n",
       "BOOKS_AND_REFERENCE     231\n",
       "BUSINESS                460\n",
       "COMICS                   60\n",
       "COMMUNICATION           387\n",
       "DATING                  234\n",
       "EDUCATION               156\n",
       "ENTERTAINMENT           149\n",
       "EVENTS                   64\n",
       "FAMILY                 1972\n",
       "FINANCE                 366\n",
       "FOOD_AND_DRINK          127\n",
       "GAME                   1144\n",
       "HEALTH_AND_FITNESS      341\n",
       "HOUSE_AND_HOME           88\n",
       "LIBRARIES_AND_DEMO       85\n",
       "LIFESTYLE               382\n",
       "MAPS_AND_NAVIGATION     137\n",
       "MEDICAL                 463\n",
       "NEWS_AND_MAGAZINES      283\n",
       "PARENTING                60\n",
       "PERSONALIZATION         392\n",
       "PHOTOGRAPHY             335\n",
       "PRODUCTIVITY            424\n",
       "SHOPPING                260\n",
       "SOCIAL                  295\n",
       "SPORTS                  384\n",
       "TOOLS                   843\n",
       "TRAVEL_AND_LOCAL        258\n",
       "VIDEO_PLAYERS           175\n",
       "WEATHER                  82\n",
       "Name: App, dtype: int64"
      ]
     },
     "execution_count": 4,
     "metadata": {},
     "output_type": "execute_result"
    }
   ],
   "source": [
    "data.groupby('Category')['App'].count()"
   ]
  },
  {
   "cell_type": "code",
   "execution_count": 5,
   "metadata": {},
   "outputs": [
    {
     "data": {
      "text/html": [
       "<div>\n",
       "<style scoped>\n",
       "    .dataframe tbody tr th:only-of-type {\n",
       "        vertical-align: middle;\n",
       "    }\n",
       "\n",
       "    .dataframe tbody tr th {\n",
       "        vertical-align: top;\n",
       "    }\n",
       "\n",
       "    .dataframe thead th {\n",
       "        text-align: right;\n",
       "    }\n",
       "</style>\n",
       "<table border=\"1\" class=\"dataframe\">\n",
       "  <thead>\n",
       "    <tr style=\"text-align: right;\">\n",
       "      <th></th>\n",
       "      <th>App</th>\n",
       "      <th>Category</th>\n",
       "      <th>Rating</th>\n",
       "      <th>Reviews</th>\n",
       "      <th>Size</th>\n",
       "      <th>Installs</th>\n",
       "      <th>Type</th>\n",
       "      <th>Price</th>\n",
       "      <th>Content Rating</th>\n",
       "      <th>Genres</th>\n",
       "      <th>Last Updated</th>\n",
       "      <th>Current Ver</th>\n",
       "      <th>Android Ver</th>\n",
       "    </tr>\n",
       "  </thead>\n",
       "  <tbody>\n",
       "    <tr>\n",
       "      <th>0</th>\n",
       "      <td>ROBLOX</td>\n",
       "      <td>GAME</td>\n",
       "      <td>4.5</td>\n",
       "      <td>4447388</td>\n",
       "      <td>67M</td>\n",
       "      <td>100,000,000+</td>\n",
       "      <td>Free</td>\n",
       "      <td>0</td>\n",
       "      <td>Everyone 10+</td>\n",
       "      <td>Adventure;Action &amp; Adventure</td>\n",
       "      <td>July 31, 2018</td>\n",
       "      <td>2.347.225742</td>\n",
       "      <td>4.1 and up</td>\n",
       "    </tr>\n",
       "    <tr>\n",
       "      <th>1</th>\n",
       "      <td>Subway Surfers</td>\n",
       "      <td>GAME</td>\n",
       "      <td>4.5</td>\n",
       "      <td>27722264</td>\n",
       "      <td>76M</td>\n",
       "      <td>1,000,000,000+</td>\n",
       "      <td>Free</td>\n",
       "      <td>0</td>\n",
       "      <td>Everyone 10+</td>\n",
       "      <td>Arcade</td>\n",
       "      <td>July 12, 2018</td>\n",
       "      <td>1.90.0</td>\n",
       "      <td>4.1 and up</td>\n",
       "    </tr>\n",
       "    <tr>\n",
       "      <th>2</th>\n",
       "      <td>Candy Crush Saga</td>\n",
       "      <td>GAME</td>\n",
       "      <td>4.4</td>\n",
       "      <td>22426677</td>\n",
       "      <td>74M</td>\n",
       "      <td>500,000,000+</td>\n",
       "      <td>Free</td>\n",
       "      <td>0</td>\n",
       "      <td>Everyone</td>\n",
       "      <td>Casual</td>\n",
       "      <td>July 5, 2018</td>\n",
       "      <td>1.129.0.2</td>\n",
       "      <td>4.1 and up</td>\n",
       "    </tr>\n",
       "    <tr>\n",
       "      <th>3</th>\n",
       "      <td>Solitaire</td>\n",
       "      <td>GAME</td>\n",
       "      <td>4.7</td>\n",
       "      <td>254258</td>\n",
       "      <td>23M</td>\n",
       "      <td>10,000,000+</td>\n",
       "      <td>Free</td>\n",
       "      <td>0</td>\n",
       "      <td>Everyone</td>\n",
       "      <td>Card</td>\n",
       "      <td>August 1, 2018</td>\n",
       "      <td>2.137.0</td>\n",
       "      <td>4.1 and up</td>\n",
       "    </tr>\n",
       "    <tr>\n",
       "      <th>4</th>\n",
       "      <td>Bubble Shooter</td>\n",
       "      <td>GAME</td>\n",
       "      <td>4.5</td>\n",
       "      <td>148897</td>\n",
       "      <td>46M</td>\n",
       "      <td>10,000,000+</td>\n",
       "      <td>Free</td>\n",
       "      <td>0</td>\n",
       "      <td>Everyone</td>\n",
       "      <td>Casual</td>\n",
       "      <td>July 17, 2018</td>\n",
       "      <td>1.20.1</td>\n",
       "      <td>4.0.3 and up</td>\n",
       "    </tr>\n",
       "  </tbody>\n",
       "</table>\n",
       "</div>"
      ],
      "text/plain": [
       "                App Category  Rating   Reviews Size        Installs  Type  \\\n",
       "0            ROBLOX     GAME     4.5   4447388  67M    100,000,000+  Free   \n",
       "1    Subway Surfers     GAME     4.5  27722264  76M  1,000,000,000+  Free   \n",
       "2  Candy Crush Saga     GAME     4.4  22426677  74M    500,000,000+  Free   \n",
       "3         Solitaire     GAME     4.7    254258  23M     10,000,000+  Free   \n",
       "4    Bubble Shooter     GAME     4.5    148897  46M     10,000,000+  Free   \n",
       "\n",
       "  Price Content Rating                        Genres    Last Updated  \\\n",
       "0     0   Everyone 10+  Adventure;Action & Adventure   July 31, 2018   \n",
       "1     0   Everyone 10+                        Arcade   July 12, 2018   \n",
       "2     0       Everyone                        Casual    July 5, 2018   \n",
       "3     0       Everyone                          Card  August 1, 2018   \n",
       "4     0       Everyone                        Casual   July 17, 2018   \n",
       "\n",
       "    Current Ver   Android Ver  \n",
       "0  2.347.225742    4.1 and up  \n",
       "1        1.90.0    4.1 and up  \n",
       "2     1.129.0.2    4.1 and up  \n",
       "3       2.137.0    4.1 and up  \n",
       "4        1.20.1  4.0.3 and up  "
      ]
     },
     "execution_count": 5,
     "metadata": {},
     "output_type": "execute_result"
    }
   ],
   "source": [
    "#Create My new Data\n",
    "\n",
    "games = data[data['Category'] == 'GAME']\n",
    "games.reset_index(drop=True, inplace=True)\n",
    "games.head()"
   ]
  },
  {
   "cell_type": "code",
   "execution_count": 6,
   "metadata": {},
   "outputs": [
    {
     "data": {
      "text/plain": [
       "Genres\n",
       "Action                           365\n",
       "Action;Action & Adventure          3\n",
       "Adventure                         75\n",
       "Adventure;Action & Adventure       5\n",
       "Arcade                           220\n",
       "Board                             44\n",
       "Card                              48\n",
       "Casino                            39\n",
       "Casual                            45\n",
       "Casual;Action & Adventure          1\n",
       "Casual;Brain Games                 1\n",
       "Casual;Creativity                  1\n",
       "Casual;Pretend Play                1\n",
       "Music                             22\n",
       "Puzzle                            42\n",
       "Racing                            98\n",
       "Role Playing                      16\n",
       "Simulation                        11\n",
       "Simulation;Action & Adventure      1\n",
       "Simulation;Education               1\n",
       "Sports                            14\n",
       "Strategy                          24\n",
       "Trivia                            38\n",
       "Word                              29\n",
       "Name: App, dtype: int64"
      ]
     },
     "execution_count": 6,
     "metadata": {},
     "output_type": "execute_result"
    }
   ],
   "source": [
    "games.groupby('Genres')['App'].count()"
   ]
  },
  {
   "cell_type": "code",
   "execution_count": 7,
   "metadata": {},
   "outputs": [],
   "source": [
    "genre_remove = [\n",
    "'Action;Action & Adventure',\n",
    "'Adventure;Action & Adventure',\n",
    "'Casual;Action & Adventure',\n",
    "'Casual;Brain Games',\n",
    "'Casual;Creativity',\n",
    "'Casual;Pretend Play',\n",
    "'Simulation;Action & Adventure',\n",
    "'Simulation;Education']\n",
    "\n",
    "for i in genre_remove:\n",
    "    games = games[games.Genres != i]\n",
    "    \n",
    "games.reset_index(drop=True, inplace=True)"
   ]
  },
  {
   "cell_type": "code",
   "execution_count": 8,
   "metadata": {},
   "outputs": [
    {
     "data": {
      "text/plain": [
       "Genres\n",
       "Action          365\n",
       "Adventure        75\n",
       "Arcade          220\n",
       "Board            44\n",
       "Card             48\n",
       "Casino           39\n",
       "Casual           45\n",
       "Music            22\n",
       "Puzzle           42\n",
       "Racing           98\n",
       "Role Playing     16\n",
       "Simulation       11\n",
       "Sports           14\n",
       "Strategy         24\n",
       "Trivia           38\n",
       "Word             29\n",
       "Name: App, dtype: int64"
      ]
     },
     "execution_count": 8,
     "metadata": {},
     "output_type": "execute_result"
    }
   ],
   "source": [
    "games.groupby('Genres')['App'].count()"
   ]
  },
  {
   "cell_type": "code",
   "execution_count": 9,
   "metadata": {},
   "outputs": [],
   "source": [
    "games = games[['App', 'Rating', 'Reviews', 'Size', 'Installs', 'Type', 'Content Rating', 'Genres']]\n",
    "#games.set_index('App')"
   ]
  },
  {
   "cell_type": "code",
   "execution_count": 10,
   "metadata": {},
   "outputs": [
    {
     "data": {
      "text/html": [
       "<div>\n",
       "<style scoped>\n",
       "    .dataframe tbody tr th:only-of-type {\n",
       "        vertical-align: middle;\n",
       "    }\n",
       "\n",
       "    .dataframe tbody tr th {\n",
       "        vertical-align: top;\n",
       "    }\n",
       "\n",
       "    .dataframe thead th {\n",
       "        text-align: right;\n",
       "    }\n",
       "</style>\n",
       "<table border=\"1\" class=\"dataframe\">\n",
       "  <thead>\n",
       "    <tr style=\"text-align: right;\">\n",
       "      <th></th>\n",
       "      <th>App</th>\n",
       "      <th>Rating</th>\n",
       "      <th>Reviews</th>\n",
       "      <th>Size</th>\n",
       "      <th>Installs</th>\n",
       "      <th>Type</th>\n",
       "      <th>Content Rating</th>\n",
       "      <th>Genres</th>\n",
       "    </tr>\n",
       "  </thead>\n",
       "  <tbody>\n",
       "    <tr>\n",
       "      <th>0</th>\n",
       "      <td>Subway Surfers</td>\n",
       "      <td>4.5</td>\n",
       "      <td>27722264</td>\n",
       "      <td>76M</td>\n",
       "      <td>1,000,000,000+</td>\n",
       "      <td>Free</td>\n",
       "      <td>Everyone 10+</td>\n",
       "      <td>Arcade</td>\n",
       "    </tr>\n",
       "    <tr>\n",
       "      <th>1</th>\n",
       "      <td>Candy Crush Saga</td>\n",
       "      <td>4.4</td>\n",
       "      <td>22426677</td>\n",
       "      <td>74M</td>\n",
       "      <td>500,000,000+</td>\n",
       "      <td>Free</td>\n",
       "      <td>Everyone</td>\n",
       "      <td>Casual</td>\n",
       "    </tr>\n",
       "    <tr>\n",
       "      <th>2</th>\n",
       "      <td>Solitaire</td>\n",
       "      <td>4.7</td>\n",
       "      <td>254258</td>\n",
       "      <td>23M</td>\n",
       "      <td>10,000,000+</td>\n",
       "      <td>Free</td>\n",
       "      <td>Everyone</td>\n",
       "      <td>Card</td>\n",
       "    </tr>\n",
       "    <tr>\n",
       "      <th>3</th>\n",
       "      <td>Bubble Shooter</td>\n",
       "      <td>4.5</td>\n",
       "      <td>148897</td>\n",
       "      <td>46M</td>\n",
       "      <td>10,000,000+</td>\n",
       "      <td>Free</td>\n",
       "      <td>Everyone</td>\n",
       "      <td>Casual</td>\n",
       "    </tr>\n",
       "    <tr>\n",
       "      <th>4</th>\n",
       "      <td>slither.io</td>\n",
       "      <td>4.4</td>\n",
       "      <td>5234162</td>\n",
       "      <td>Varies with device</td>\n",
       "      <td>100,000,000+</td>\n",
       "      <td>Free</td>\n",
       "      <td>Everyone</td>\n",
       "      <td>Action</td>\n",
       "    </tr>\n",
       "  </tbody>\n",
       "</table>\n",
       "</div>"
      ],
      "text/plain": [
       "                App  Rating   Reviews                Size        Installs  \\\n",
       "0    Subway Surfers     4.5  27722264                 76M  1,000,000,000+   \n",
       "1  Candy Crush Saga     4.4  22426677                 74M    500,000,000+   \n",
       "2         Solitaire     4.7    254258                 23M     10,000,000+   \n",
       "3    Bubble Shooter     4.5    148897                 46M     10,000,000+   \n",
       "4        slither.io     4.4   5234162  Varies with device    100,000,000+   \n",
       "\n",
       "   Type Content Rating  Genres  \n",
       "0  Free   Everyone 10+  Arcade  \n",
       "1  Free       Everyone  Casual  \n",
       "2  Free       Everyone    Card  \n",
       "3  Free       Everyone  Casual  \n",
       "4  Free       Everyone  Action  "
      ]
     },
     "execution_count": 10,
     "metadata": {},
     "output_type": "execute_result"
    }
   ],
   "source": [
    "games.head()"
   ]
  },
  {
   "cell_type": "code",
   "execution_count": 11,
   "metadata": {},
   "outputs": [
    {
     "name": "stdout",
     "output_type": "stream",
     "text": [
      "<class 'pandas.core.frame.DataFrame'>\n",
      "RangeIndex: 1130 entries, 0 to 1129\n",
      "Data columns (total 8 columns):\n",
      " #   Column          Non-Null Count  Dtype  \n",
      "---  ------          --------------  -----  \n",
      " 0   App             1130 non-null   object \n",
      " 1   Rating          1083 non-null   float64\n",
      " 2   Reviews         1130 non-null   object \n",
      " 3   Size            1130 non-null   object \n",
      " 4   Installs        1130 non-null   object \n",
      " 5   Type            1130 non-null   object \n",
      " 6   Content Rating  1130 non-null   object \n",
      " 7   Genres          1130 non-null   object \n",
      "dtypes: float64(1), object(7)\n",
      "memory usage: 70.8+ KB\n"
     ]
    }
   ],
   "source": [
    "games.info()"
   ]
  },
  {
   "cell_type": "code",
   "execution_count": 12,
   "metadata": {},
   "outputs": [
    {
     "data": {
      "text/plain": [
       "App                0\n",
       "Rating            47\n",
       "Reviews            0\n",
       "Size               0\n",
       "Installs           0\n",
       "Type               0\n",
       "Content Rating     0\n",
       "Genres             0\n",
       "dtype: int64"
      ]
     },
     "execution_count": 12,
     "metadata": {},
     "output_type": "execute_result"
    }
   ],
   "source": [
    "games.isnull().sum()"
   ]
  },
  {
   "cell_type": "code",
   "execution_count": 13,
   "metadata": {},
   "outputs": [
    {
     "data": {
      "text/plain": [
       "App               0\n",
       "Rating            0\n",
       "Reviews           0\n",
       "Size              0\n",
       "Installs          0\n",
       "Type              0\n",
       "Content Rating    0\n",
       "Genres            0\n",
       "dtype: int64"
      ]
     },
     "execution_count": 13,
     "metadata": {},
     "output_type": "execute_result"
    }
   ],
   "source": [
    "#PreProcessing\n",
    "\n",
    "# drop NULLs\n",
    "games.dropna(inplace=True)\n",
    "games.isnull().sum()"
   ]
  },
  {
   "cell_type": "code",
   "execution_count": 14,
   "metadata": {},
   "outputs": [],
   "source": [
    "# converting data to numeric\n",
    "\n",
    "# for Reviws coulmn\n",
    "games[['Reviews']] = games[['Reviews']].apply(pd.to_numeric, errors='coerce')\n",
    "# for Size column\n",
    "problems.preProcess_new_Size(games)\n",
    "# for Install column\n",
    "problems.preProcess_new_Installs(games)"
   ]
  },
  {
   "cell_type": "code",
   "execution_count": 15,
   "metadata": {},
   "outputs": [
    {
     "data": {
      "text/html": [
       "<div>\n",
       "<style scoped>\n",
       "    .dataframe tbody tr th:only-of-type {\n",
       "        vertical-align: middle;\n",
       "    }\n",
       "\n",
       "    .dataframe tbody tr th {\n",
       "        vertical-align: top;\n",
       "    }\n",
       "\n",
       "    .dataframe thead th {\n",
       "        text-align: right;\n",
       "    }\n",
       "</style>\n",
       "<table border=\"1\" class=\"dataframe\">\n",
       "  <thead>\n",
       "    <tr style=\"text-align: right;\">\n",
       "      <th></th>\n",
       "      <th>App</th>\n",
       "      <th>Rating</th>\n",
       "      <th>Reviews</th>\n",
       "      <th>Size</th>\n",
       "      <th>Installs</th>\n",
       "      <th>Type</th>\n",
       "      <th>Content Rating</th>\n",
       "      <th>Genres</th>\n",
       "    </tr>\n",
       "  </thead>\n",
       "  <tbody>\n",
       "    <tr>\n",
       "      <th>0</th>\n",
       "      <td>Subway Surfers</td>\n",
       "      <td>4.5</td>\n",
       "      <td>27722264</td>\n",
       "      <td>76.0</td>\n",
       "      <td>1000000000</td>\n",
       "      <td>Free</td>\n",
       "      <td>Everyone 10+</td>\n",
       "      <td>Arcade</td>\n",
       "    </tr>\n",
       "    <tr>\n",
       "      <th>1</th>\n",
       "      <td>Candy Crush Saga</td>\n",
       "      <td>4.4</td>\n",
       "      <td>22426677</td>\n",
       "      <td>74.0</td>\n",
       "      <td>500000000</td>\n",
       "      <td>Free</td>\n",
       "      <td>Everyone</td>\n",
       "      <td>Casual</td>\n",
       "    </tr>\n",
       "    <tr>\n",
       "      <th>2</th>\n",
       "      <td>Solitaire</td>\n",
       "      <td>4.7</td>\n",
       "      <td>254258</td>\n",
       "      <td>23.0</td>\n",
       "      <td>10000000</td>\n",
       "      <td>Free</td>\n",
       "      <td>Everyone</td>\n",
       "      <td>Card</td>\n",
       "    </tr>\n",
       "    <tr>\n",
       "      <th>3</th>\n",
       "      <td>Bubble Shooter</td>\n",
       "      <td>4.5</td>\n",
       "      <td>148897</td>\n",
       "      <td>46.0</td>\n",
       "      <td>10000000</td>\n",
       "      <td>Free</td>\n",
       "      <td>Everyone</td>\n",
       "      <td>Casual</td>\n",
       "    </tr>\n",
       "    <tr>\n",
       "      <th>5</th>\n",
       "      <td>Clash Royale</td>\n",
       "      <td>4.6</td>\n",
       "      <td>23133508</td>\n",
       "      <td>97.0</td>\n",
       "      <td>100000000</td>\n",
       "      <td>Free</td>\n",
       "      <td>Everyone 10+</td>\n",
       "      <td>Strategy</td>\n",
       "    </tr>\n",
       "  </tbody>\n",
       "</table>\n",
       "</div>"
      ],
      "text/plain": [
       "                App  Rating   Reviews  Size    Installs  Type Content Rating  \\\n",
       "0    Subway Surfers     4.5  27722264  76.0  1000000000  Free   Everyone 10+   \n",
       "1  Candy Crush Saga     4.4  22426677  74.0   500000000  Free       Everyone   \n",
       "2         Solitaire     4.7    254258  23.0    10000000  Free       Everyone   \n",
       "3    Bubble Shooter     4.5    148897  46.0    10000000  Free       Everyone   \n",
       "5      Clash Royale     4.6  23133508  97.0   100000000  Free   Everyone 10+   \n",
       "\n",
       "     Genres  \n",
       "0    Arcade  \n",
       "1    Casual  \n",
       "2      Card  \n",
       "3    Casual  \n",
       "5  Strategy  "
      ]
     },
     "execution_count": 15,
     "metadata": {},
     "output_type": "execute_result"
    }
   ],
   "source": [
    "games.head()"
   ]
  },
  {
   "cell_type": "code",
   "execution_count": 16,
   "metadata": {},
   "outputs": [
    {
     "data": {
      "text/plain": [
       "<matplotlib.axes._subplots.AxesSubplot at 0x1aa59db6610>"
      ]
     },
     "execution_count": 16,
     "metadata": {},
     "output_type": "execute_result"
    },
    {
     "data": {
      "image/png": "[encoded data removed]",
      "text/plain": [
       "<Figure size 432x288 with 1 Axes>"
      ]
     },
     "metadata": {
      "needs_background": "light"
     },
     "output_type": "display_data"
    }
   ],
   "source": [
    "# Exploratory Data Analaysis\n",
    "\n",
    "games.groupby('Genres')['App'].count().plot(kind='bar')"
   ]
  },
  {
   "cell_type": "code",
   "execution_count": 17,
   "metadata": {},
   "outputs": [
    {
     "data": {
      "text/plain": [
       "<matplotlib.axes._subplots.AxesSubplot at 0x1aa59eb1970>"
      ]
     },
     "execution_count": 17,
     "metadata": {},
     "output_type": "execute_result"
    },
    {
     "data": {
      "image/png": "[encoded data removed]",
      "text/plain": [
       "<Figure size 432x288 with 1 Axes>"
      ]
     },
     "metadata": {
      "needs_background": "light"
     },
     "output_type": "display_data"
    }
   ],
   "source": [
    "games.groupby('Genres')['Installs'].sum().plot(kind='bar')"
   ]
  },
  {
   "cell_type": "code",
   "execution_count": 18,
   "metadata": {},
   "outputs": [
    {
     "data": {
      "text/plain": [
       "<matplotlib.axes._subplots.AxesSubplot at 0x1aa59f6c250>"
      ]
     },
     "execution_count": 18,
     "metadata": {},
     "output_type": "execute_result"
    },
    {
     "data": {
      "image/png": "[encoded data removed]",
      "text/plain": [
       "<Figure size 432x288 with 1 Axes>"
      ]
     },
     "metadata": {
      "needs_background": "light"
     },
     "output_type": "display_data"
    }
   ],
   "source": [
    "games.groupby('Genres')['Reviews'].sum().plot(kind='bar')"
   ]
  },
  {
   "cell_type": "code",
   "execution_count": 19,
   "metadata": {},
   "outputs": [
    {
     "data": {
      "text/plain": [
       "<matplotlib.axes._subplots.AxesSubplot at 0x1aa59ff81f0>"
      ]
     },
     "execution_count": 19,
     "metadata": {},
     "output_type": "execute_result"
    },
    {
     "data": {
      "image/png": "[encoded data removed]",
      "text/plain": [
       "<Figure size 360x360 with 1 Axes>"
      ]
     },
     "metadata": {},
     "output_type": "display_data"
    }
   ],
   "source": [
    "games.groupby('Type')['App'].count().plot(kind='pie', figsize=(5,5))"
   ]
  },
  {
   "cell_type": "code",
   "execution_count": 20,
   "metadata": {},
   "outputs": [
    {
     "data": {
      "image/png": "[encoded data removed]",
      "text/plain": [
       "<Figure size 1440x576 with 2 Axes>"
      ]
     },
     "metadata": {
      "needs_background": "light"
     },
     "output_type": "display_data"
    }
   ],
   "source": [
    "fig, ax = plt.subplots(figsize=(20, 8))\n",
    "\n",
    "fig1 = sns.lineplot(x='Genres', y='Installs', data=games, ax=ax, ci=None, color='g',label='Installs')\n",
    "fig1.set(xlabel='scores', ylabel='average of downloads')\n",
    "\n",
    "ax2 = ax.twinx()\n",
    "fig2 = sns.lineplot(x='Genres', y='Reviews', data=games, ax=ax2, ci=None, color='r',label='Reviews')\n",
    "fig2.set(xlabel='scores', ylabel='average number of vote')\n",
    "\n",
    "ax.legend(loc='upper left', fontsize='large')\n",
    "ax2.legend(fontsize='large')\n",
    "\n",
    "plt.show()"
   ]
  },
  {
   "cell_type": "code",
   "execution_count": 21,
   "metadata": {},
   "outputs": [
    {
     "data": {
      "text/plain": [
       "<matplotlib.axes._subplots.AxesSubplot at 0x1aa5a0387c0>"
      ]
     },
     "execution_count": 21,
     "metadata": {},
     "output_type": "execute_result"
    },
    {
     "data": {
      "image/png": "[encoded data removed]",
      "text/plain": [
       "<Figure size 360x360 with 1 Axes>"
      ]
     },
     "metadata": {},
     "output_type": "display_data"
    }
   ],
   "source": [
    "games.groupby('Content Rating')['App'].count().plot(kind='pie', figsize=(5,5))"
   ]
  },
  {
   "cell_type": "code",
   "execution_count": 22,
   "metadata": {},
   "outputs": [
    {
     "data": {
      "text/plain": [
       "<matplotlib.axes._subplots.AxesSubplot at 0x1aa5a712970>"
      ]
     },
     "execution_count": 22,
     "metadata": {},
     "output_type": "execute_result"
    },
    {
     "data": {
      "image/png": "[encoded data removed]",
      "text/plain": [
       "<Figure size 576x360 with 1 Axes>"
      ]
     },
     "metadata": {
      "needs_background": "light"
     },
     "output_type": "display_data"
    }
   ],
   "source": [
    "games.groupby('Content Rating')['Installs'].sum().plot(kind='barh', figsize=(8,5))"
   ]
  },
  {
   "cell_type": "code",
   "execution_count": 23,
   "metadata": {},
   "outputs": [],
   "source": [
    "games = games.sort_values('Size', ascending=False)\n",
    "r_labels = ['Tiny', 'Small', 'Normal', 'Large', 'Huge']\n",
    "games['groups'] = pd.qcut(games.loc[:,'Size'], q = 5, labels = r_labels)"
   ]
  },
  {
   "cell_type": "code",
   "execution_count": 24,
   "metadata": {},
   "outputs": [
    {
     "data": {
      "image/png": "[encoded data removed]",
      "text/plain": [
       "<Figure size 432x288 with 1 Axes>"
      ]
     },
     "metadata": {
      "needs_background": "light"
     },
     "output_type": "display_data"
    }
   ],
   "source": [
    "games.groupby('groups')['Installs'].sum().plot(kind='bar')\n",
    "games.drop('groups', axis=1, inplace=True)"
   ]
  },
  {
   "cell_type": "code",
   "execution_count": 25,
   "metadata": {},
   "outputs": [
    {
     "data": {
      "text/html": [
       "<div>\n",
       "<style scoped>\n",
       "    .dataframe tbody tr th:only-of-type {\n",
       "        vertical-align: middle;\n",
       "    }\n",
       "\n",
       "    .dataframe tbody tr th {\n",
       "        vertical-align: top;\n",
       "    }\n",
       "\n",
       "    .dataframe thead th {\n",
       "        text-align: right;\n",
       "    }\n",
       "</style>\n",
       "<table border=\"1\" class=\"dataframe\">\n",
       "  <thead>\n",
       "    <tr style=\"text-align: right;\">\n",
       "      <th></th>\n",
       "      <th>App</th>\n",
       "      <th>Rating</th>\n",
       "      <th>Reviews</th>\n",
       "      <th>Size</th>\n",
       "      <th>Installs</th>\n",
       "      <th>Genres</th>\n",
       "      <th>Type_Free</th>\n",
       "      <th>Type_Paid</th>\n",
       "      <th>Content Rating_Everyone</th>\n",
       "      <th>Content Rating_Everyone 10+</th>\n",
       "      <th>Content Rating_Mature 17+</th>\n",
       "      <th>Content Rating_Teen</th>\n",
       "    </tr>\n",
       "  </thead>\n",
       "  <tbody>\n",
       "    <tr>\n",
       "      <th>322</th>\n",
       "      <td>Hungry Shark Evolution</td>\n",
       "      <td>4.5</td>\n",
       "      <td>6074627</td>\n",
       "      <td>100.0</td>\n",
       "      <td>100000000</td>\n",
       "      <td>Arcade</td>\n",
       "      <td>1</td>\n",
       "      <td>0</td>\n",
       "      <td>0</td>\n",
       "      <td>0</td>\n",
       "      <td>0</td>\n",
       "      <td>1</td>\n",
       "    </tr>\n",
       "    <tr>\n",
       "      <th>961</th>\n",
       "      <td>Stickman Legends: Shadow Wars</td>\n",
       "      <td>4.4</td>\n",
       "      <td>38419</td>\n",
       "      <td>100.0</td>\n",
       "      <td>1000000</td>\n",
       "      <td>Action</td>\n",
       "      <td>0</td>\n",
       "      <td>1</td>\n",
       "      <td>0</td>\n",
       "      <td>1</td>\n",
       "      <td>0</td>\n",
       "      <td>0</td>\n",
       "    </tr>\n",
       "    <tr>\n",
       "      <th>889</th>\n",
       "      <td>Car Crash III Beam DH Real Damage Simulator 2018</td>\n",
       "      <td>3.6</td>\n",
       "      <td>151</td>\n",
       "      <td>100.0</td>\n",
       "      <td>10000</td>\n",
       "      <td>Racing</td>\n",
       "      <td>1</td>\n",
       "      <td>0</td>\n",
       "      <td>1</td>\n",
       "      <td>0</td>\n",
       "      <td>0</td>\n",
       "      <td>0</td>\n",
       "    </tr>\n",
       "    <tr>\n",
       "      <th>134</th>\n",
       "      <td>Mini Golf King - Multiplayer Game</td>\n",
       "      <td>4.5</td>\n",
       "      <td>531458</td>\n",
       "      <td>100.0</td>\n",
       "      <td>5000000</td>\n",
       "      <td>Sports</td>\n",
       "      <td>1</td>\n",
       "      <td>0</td>\n",
       "      <td>1</td>\n",
       "      <td>0</td>\n",
       "      <td>0</td>\n",
       "      <td>0</td>\n",
       "    </tr>\n",
       "    <tr>\n",
       "      <th>99</th>\n",
       "      <td>Hungry Shark Evolution</td>\n",
       "      <td>4.5</td>\n",
       "      <td>6074334</td>\n",
       "      <td>100.0</td>\n",
       "      <td>100000000</td>\n",
       "      <td>Arcade</td>\n",
       "      <td>1</td>\n",
       "      <td>0</td>\n",
       "      <td>0</td>\n",
       "      <td>0</td>\n",
       "      <td>0</td>\n",
       "      <td>1</td>\n",
       "    </tr>\n",
       "    <tr>\n",
       "      <th>...</th>\n",
       "      <td>...</td>\n",
       "      <td>...</td>\n",
       "      <td>...</td>\n",
       "      <td>...</td>\n",
       "      <td>...</td>\n",
       "      <td>...</td>\n",
       "      <td>...</td>\n",
       "      <td>...</td>\n",
       "      <td>...</td>\n",
       "      <td>...</td>\n",
       "      <td>...</td>\n",
       "      <td>...</td>\n",
       "    </tr>\n",
       "    <tr>\n",
       "      <th>740</th>\n",
       "      <td>BW-Go Free</td>\n",
       "      <td>4.6</td>\n",
       "      <td>547</td>\n",
       "      <td>1.3</td>\n",
       "      <td>10000</td>\n",
       "      <td>Board</td>\n",
       "      <td>1</td>\n",
       "      <td>0</td>\n",
       "      <td>1</td>\n",
       "      <td>0</td>\n",
       "      <td>0</td>\n",
       "      <td>0</td>\n",
       "    </tr>\n",
       "    <tr>\n",
       "      <th>743</th>\n",
       "      <td>BW-GnuGo</td>\n",
       "      <td>4.1</td>\n",
       "      <td>64</td>\n",
       "      <td>1.3</td>\n",
       "      <td>5000</td>\n",
       "      <td>Board</td>\n",
       "      <td>1</td>\n",
       "      <td>0</td>\n",
       "      <td>1</td>\n",
       "      <td>0</td>\n",
       "      <td>0</td>\n",
       "      <td>0</td>\n",
       "    </tr>\n",
       "    <tr>\n",
       "      <th>739</th>\n",
       "      <td>BW-Go</td>\n",
       "      <td>4.8</td>\n",
       "      <td>265</td>\n",
       "      <td>1.3</td>\n",
       "      <td>1000</td>\n",
       "      <td>Board</td>\n",
       "      <td>0</td>\n",
       "      <td>1</td>\n",
       "      <td>1</td>\n",
       "      <td>0</td>\n",
       "      <td>0</td>\n",
       "      <td>0</td>\n",
       "    </tr>\n",
       "    <tr>\n",
       "      <th>725</th>\n",
       "      <td>BombSquad Remote</td>\n",
       "      <td>4.1</td>\n",
       "      <td>13304</td>\n",
       "      <td>1.3</td>\n",
       "      <td>1000000</td>\n",
       "      <td>Arcade</td>\n",
       "      <td>1</td>\n",
       "      <td>0</td>\n",
       "      <td>1</td>\n",
       "      <td>0</td>\n",
       "      <td>0</td>\n",
       "      <td>0</td>\n",
       "    </tr>\n",
       "    <tr>\n",
       "      <th>848</th>\n",
       "      <td>Freecell CY</td>\n",
       "      <td>4.0</td>\n",
       "      <td>387</td>\n",
       "      <td>1.1</td>\n",
       "      <td>50000</td>\n",
       "      <td>Card</td>\n",
       "      <td>1</td>\n",
       "      <td>0</td>\n",
       "      <td>1</td>\n",
       "      <td>0</td>\n",
       "      <td>0</td>\n",
       "      <td>0</td>\n",
       "    </tr>\n",
       "  </tbody>\n",
       "</table>\n",
       "<p>959 rows × 12 columns</p>\n",
       "</div>"
      ],
      "text/plain": [
       "                                                  App  Rating  Reviews   Size  \\\n",
       "322                            Hungry Shark Evolution     4.5  6074627  100.0   \n",
       "961                     Stickman Legends: Shadow Wars     4.4    38419  100.0   \n",
       "889  Car Crash III Beam DH Real Damage Simulator 2018     3.6      151  100.0   \n",
       "134                 Mini Golf King - Multiplayer Game     4.5   531458  100.0   \n",
       "99                             Hungry Shark Evolution     4.5  6074334  100.0   \n",
       "..                                                ...     ...      ...    ...   \n",
       "740                                        BW-Go Free     4.6      547    1.3   \n",
       "743                                          BW-GnuGo     4.1       64    1.3   \n",
       "739                                             BW-Go     4.8      265    1.3   \n",
       "725                                  BombSquad Remote     4.1    13304    1.3   \n",
       "848                                       Freecell CY     4.0      387    1.1   \n",
       "\n",
       "      Installs  Genres  Type_Free  Type_Paid  Content Rating_Everyone  \\\n",
       "322  100000000  Arcade          1          0                        0   \n",
       "961    1000000  Action          0          1                        0   \n",
       "889      10000  Racing          1          0                        1   \n",
       "134    5000000  Sports          1          0                        1   \n",
       "99   100000000  Arcade          1          0                        0   \n",
       "..         ...     ...        ...        ...                      ...   \n",
       "740      10000   Board          1          0                        1   \n",
       "743       5000   Board          1          0                        1   \n",
       "739       1000   Board          0          1                        1   \n",
       "725    1000000  Arcade          1          0                        1   \n",
       "848      50000    Card          1          0                        1   \n",
       "\n",
       "     Content Rating_Everyone 10+  Content Rating_Mature 17+  \\\n",
       "322                            0                          0   \n",
       "961                            1                          0   \n",
       "889                            0                          0   \n",
       "134                            0                          0   \n",
       "99                             0                          0   \n",
       "..                           ...                        ...   \n",
       "740                            0                          0   \n",
       "743                            0                          0   \n",
       "739                            0                          0   \n",
       "725                            0                          0   \n",
       "848                            0                          0   \n",
       "\n",
       "     Content Rating_Teen  \n",
       "322                    1  \n",
       "961                    0  \n",
       "889                    0  \n",
       "134                    0  \n",
       "99                     1  \n",
       "..                   ...  \n",
       "740                    0  \n",
       "743                    0  \n",
       "739                    0  \n",
       "725                    0  \n",
       "848                    0  \n",
       "\n",
       "[959 rows x 12 columns]"
      ]
     },
     "execution_count": 25,
     "metadata": {},
     "output_type": "execute_result"
    }
   ],
   "source": [
    "# One Hot Encode\n",
    "\n",
    "# Get one hot encoding of columns Type and Content Rating\n",
    "one_hot = pd.get_dummies(games[['Type', 'Content Rating']])\n",
    "# Drop columns Type and Content Ratings as it is now encoded\n",
    "games = games.drop(['Type', 'Content Rating'], axis = 1)\n",
    "# Join the encoded games\n",
    "games = games.join(one_hot)\n",
    "games  "
   ]
  },
  {
   "cell_type": "code",
   "execution_count": 26,
   "metadata": {},
   "outputs": [],
   "source": [
    "X_train, X_test, y_train, y_test = train_test_split(games[games.columns.difference(['Genres', 'App'])], games.loc[:,'Genres'], random_state=0)"
   ]
  },
  {
   "cell_type": "code",
   "execution_count": 27,
   "metadata": {},
   "outputs": [
    {
     "data": {
      "text/plain": [
       "array([[0.        , 1.        , 0.        , ..., 0.75733064, 1.        ,\n",
       "        0.        ],\n",
       "       [1.        , 0.        , 0.        , ..., 0.29221436, 1.        ,\n",
       "        0.        ],\n",
       "       [1.        , 0.        , 0.        , ..., 0.5247725 , 1.        ,\n",
       "        0.        ],\n",
       "       ...,\n",
       "       [0.        , 1.        , 0.        , ..., 0.29221436, 1.        ,\n",
       "        0.        ],\n",
       "       [0.        , 0.        , 0.        , ..., 0.3528817 , 1.        ,\n",
       "        0.        ],\n",
       "       [0.        , 0.        , 0.        , ..., 0.24165824, 1.        ,\n",
       "        0.        ]])"
      ]
     },
     "execution_count": 27,
     "metadata": {},
     "output_type": "execute_result"
    }
   ],
   "source": [
    "# normalization \n",
    "\n",
    "#MinMax Scaler\n",
    "scaler = MinMaxScaler(feature_range=(0, 1))\n",
    "MMscaler = scaler.fit(X_train)\n",
    "X_train = MMscaler.transform(X_train)\n",
    "\n",
    "X_train"
   ]
  },
  {
   "cell_type": "code",
   "execution_count": 28,
   "metadata": {},
   "outputs": [
    {
     "data": {
      "text/plain": [
       "array([[-1.01541787,  2.73108468, -0.26746032, ...,  1.07516973,\n",
       "         0.29343265, -0.29343265],\n",
       "       [ 0.98481623, -0.36615489, -0.26746032, ..., -0.56850882,\n",
       "         0.29343265, -0.29343265],\n",
       "       [ 0.98481623, -0.36615489, -0.26746032, ...,  0.25333045,\n",
       "         0.29343265, -0.29343265],\n",
       "       ...,\n",
       "       [-1.01541787,  2.73108468, -0.26746032, ..., -0.56850882,\n",
       "         0.29343265, -0.29343265],\n",
       "       [-1.01541787, -0.36615489, -0.26746032, ..., -0.35411597,\n",
       "         0.29343265, -0.29343265],\n",
       "       [-1.01541787, -0.36615489, -0.26746032, ..., -0.74716953,\n",
       "         0.29343265, -0.29343265]])"
      ]
     },
     "execution_count": 28,
     "metadata": {},
     "output_type": "execute_result"
    }
   ],
   "source": [
    "#Standard Scaler\n",
    "scaler = StandardScaler()\n",
    "Sscaler = scaler.fit(X_train)\n",
    "X_train = Sscaler.transform(X_train)\n",
    "\n",
    "X_train"
   ]
  },
  {
   "cell_type": "code",
   "execution_count": 29,
   "metadata": {},
   "outputs": [
    {
     "data": {
      "text/plain": [
       "array([[-0.31289644,  0.84157144, -0.08241669, ...,  0.33130871,\n",
       "         0.09041995, -0.09041995],\n",
       "       [ 0.64717555, -0.24062001, -0.17576252, ..., -0.37359763,\n",
       "         0.19283033, -0.19283033],\n",
       "       [ 0.64032689, -0.23807368, -0.17390253, ...,  0.1647153 ,\n",
       "         0.19078972, -0.19078972],\n",
       "       ...,\n",
       "       [-0.32447716,  0.87271912, -0.08546704, ..., -0.1816672 ,\n",
       "         0.09376651, -0.09376651],\n",
       "       [-0.49493936, -0.17847279, -0.13036666, ..., -0.17260473,\n",
       "         0.14302621, -0.14302621],\n",
       "       [-0.42351549, -0.15271769, -0.11155367, ..., -0.31163315,\n",
       "         0.12238634, -0.12238634]])"
      ]
     },
     "execution_count": 29,
     "metadata": {},
     "output_type": "execute_result"
    }
   ],
   "source": [
    "#Normlaizer\n",
    "norm = Normalizer()\n",
    "Normalizer = norm.fit(X_train)\n",
    "X_train = Normalizer.transform(X_train)\n",
    "\n",
    "X_train"
   ]
  },
  {
   "cell_type": "code",
   "execution_count": 30,
   "metadata": {},
   "outputs": [
    {
     "data": {
      "text/plain": [
       "array([[ 0.45979641, -0.1709524 , -0.12487334, ..., -0.6357871 ,\n",
       "         0.13699945, -0.13699945],\n",
       "       [ 0.19472606, -0.07239919, -0.05288448, ..., -0.04175773,\n",
       "        -0.67384566,  0.67384566],\n",
       "       [-0.22753419, -0.08204776,  0.83780416, ...,  0.42508058,\n",
       "         0.0657522 , -0.0657522 ],\n",
       "       ...,\n",
       "       [-0.48668912, -0.1754978 , -0.12819356, ...,  0.24130587,\n",
       "         0.14064208, -0.14064208],\n",
       "       [-0.30637523,  0.82403189, -0.08069901, ...,  0.16268546,\n",
       "         0.08853547, -0.08853547],\n",
       "       [ 0.37948039, -0.14109089, -0.1030608 , ...,  0.68967057,\n",
       "         0.11306874, -0.11306874]])"
      ]
     },
     "execution_count": 30,
     "metadata": {},
     "output_type": "execute_result"
    }
   ],
   "source": [
    "#injection to Machine learning algoritms\n",
    "\n",
    "#Preparation of test data\n",
    "X_test = MMscaler.transform(X_test)\n",
    "X_test = Sscaler.transform(X_test)\n",
    "X_test = Normalizer.transform(X_test)\n",
    "\n",
    "X_test"
   ]
  },
  {
   "cell_type": "code",
   "execution_count": 31,
   "metadata": {},
   "outputs": [
    {
     "name": "stdout",
     "output_type": "stream",
     "text": [
      "knn score: 0.48333333333333334\n"
     ]
    }
   ],
   "source": [
    "# simple classification \n",
    "# Machine Learning\n",
    "\n",
    "knn = KNeighborsClassifier(n_neighbors=63, p=1, weights=\"distance\")\n",
    "knn.fit(X_train, y_train)\n",
    "score = knn.score(X_test, y_test)\n",
    "print('knn score: ' + str(score))"
   ]
  }
 ],
 "metadata": {
  "kernelspec": {
   "display_name": "Python 3",
   "language": "python",
   "name": "python3"
  },
  "language_info": {
   "codemirror_mode": {
    "name": "ipython",
    "version": 3
   },
   "file_extension": ".py",
   "mimetype": "text/x-python",
   "name": "python",
   "nbconvert_exporter": "python",
   "pygments_lexer": "ipython3",
   "version": "3.8.3"
  }
 },
 "nbformat": 4,
 "nbformat_minor": 4
}
